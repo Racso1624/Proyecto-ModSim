{
 "cells": [
  {
   "cell_type": "markdown",
   "metadata": {},
   "source": [
    "# Proyecto Modelación y Simulación\n",
    "\n",
    "Integrantes:\n",
    "- Oscar López\n",
    "- Yong Park\n",
    "- Rodrigo Barrera"
   ]
  },
  {
   "cell_type": "code",
   "execution_count": null,
   "metadata": {},
   "outputs": [],
   "source": []
  }
 ],
 "metadata": {
  "language_info": {
   "name": "python"
  }
 },
 "nbformat": 4,
 "nbformat_minor": 2
}
